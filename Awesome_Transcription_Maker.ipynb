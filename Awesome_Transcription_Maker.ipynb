{
 "cells": [
  {
   "cell_type": "markdown",
   "id": "0a923acc-2113-4eb4-9b18-43bbfd6ca713",
   "metadata": {},
   "source": [
    "# Aweseom Transciption Maker - POC\n",
    "\n",
    "A notebook to demo _whisper.cpp_\n",
    "Best to use smaller files for now\n",
    "\n",
    "----\n",
    "caveat: machine needs to have ffmpeg installed and on path"
   ]
  },
  {
   "cell_type": "code",
   "execution_count": 1,
   "id": "1679ad90-097c-4587-9cb8-d9d170ee8bbd",
   "metadata": {},
   "outputs": [
    {
     "name": "stdout",
     "output_type": "stream",
     "text": [
      "Saving models to: /Users/tim/.ggml-models\n"
     ]
    }
   ],
   "source": [
    "#install pieces if needed\n",
    "#https://github.com/kkroening/ffmpeg-python\n",
    "try:\n",
    "    import ffmpeg\n",
    "except:\n",
    "    !pip install ffmpeg-python\n",
    "    import ffmpeg\n",
    "try:\n",
    "    from whispercpp import Whisper\n",
    "except:\n",
    "    !pip install git+https://github.com/stlukey/whispercpp.py\n",
    "    from whispercpp import Whisper\n",
    "\n",
    "\n",
    "#standard libraries\n",
    "import sys\n",
    "import os\n",
    "import ipywidgets as widgets\n",
    "from IPython.display import Markdown, display"
   ]
  },
  {
   "cell_type": "markdown",
   "id": "53a3fe94-a1cf-4560-b2ea-ca63f63df737",
   "metadata": {},
   "source": [
    "## Load in file you want transcribed\n",
    "----"
   ]
  },
  {
   "cell_type": "code",
   "execution_count": 2,
   "id": "eac32f3a-8c83-4339-98e5-05930a577c6e",
   "metadata": {},
   "outputs": [
    {
     "data": {
      "application/vnd.jupyter.widget-view+json": {
       "model_id": "11b36bb2b10a457da889a38b3441b8e1",
       "version_major": 2,
       "version_minor": 0
      },
      "text/plain": [
       "FileUpload(value=(), accept='.mp3; .wav', description='Upload')"
      ]
     },
     "metadata": {},
     "output_type": "display_data"
    }
   ],
   "source": [
    "tfile = widgets.FileUpload(\n",
    "    accept = '.mp3; .wav'\n",
    ")\n",
    "display(tfile)"
   ]
  },
  {
   "cell_type": "code",
   "execution_count": 3,
   "id": "b5428071-38bb-4bf3-a6f5-61cec9cb751f",
   "metadata": {},
   "outputs": [
    {
     "name": "stdout",
     "output_type": "stream",
     "text": [
      "Writing to disk\n",
      "Done!\n",
      "Transcoding to suitable\n",
      "Done!\n"
     ]
    },
    {
     "name": "stderr",
     "output_type": "stream",
     "text": [
      "ffmpeg version 6.0 Copyright (c) 2000-2023 the FFmpeg developers\n",
      "  built with Apple clang version 14.0.0 (clang-1400.0.29.202)\n",
      "  configuration: --prefix=/usr/local/Cellar/ffmpeg/6.0_2 --enable-shared --enable-pthreads --enable-version3 --cc=clang --host-cflags= --host-ldflags= --enable-ffplay --enable-gnutls --enable-gpl --enable-libaom --enable-libaribb24 --enable-libbluray --enable-libdav1d --enable-libjxl --enable-libmp3lame --enable-libopus --enable-librav1e --enable-librist --enable-librubberband --enable-libsnappy --enable-libsrt --enable-libsvtav1 --enable-libtesseract --enable-libtheora --enable-libvidstab --enable-libvmaf --enable-libvorbis --enable-libvpx --enable-libwebp --enable-libx264 --enable-libx265 --enable-libxml2 --enable-libxvid --enable-lzma --enable-libfontconfig --enable-libfreetype --enable-frei0r --enable-libass --enable-libopencore-amrnb --enable-libopencore-amrwb --enable-libopenjpeg --enable-libspeex --enable-libsoxr --enable-libzmq --enable-libzimg --disable-libjack --disable-indev=jack --enable-videotoolbox --enable-audiotoolbox\n",
      "  libavutil      58.  2.100 / 58.  2.100\n",
      "  libavcodec     60.  3.100 / 60.  3.100\n",
      "  libavformat    60.  3.100 / 60.  3.100\n",
      "  libavdevice    60.  1.100 / 60.  1.100\n",
      "  libavfilter     9.  3.100 /  9.  3.100\n",
      "  libswscale      7.  1.100 /  7.  1.100\n",
      "  libswresample   4. 10.100 /  4. 10.100\n",
      "  libpostproc    57.  1.100 / 57.  1.100\n",
      "Guessed Channel Layout for Input Stream #0.0 : mono\n",
      "Input #0, wav, from 'jfk.wav':\n",
      "  Metadata:\n",
      "    encoder         : Lavf59.27.100\n",
      "  Duration: 00:00:11.00, bitrate: 256 kb/s\n",
      "  Stream #0:0: Audio: pcm_s16le ([1][0][0][0] / 0x0001), 16000 Hz, 1 channels, s16, 256 kb/s\n",
      "Stream mapping:\n",
      "  Stream #0:0 -> #0:0 (pcm_s16le (native) -> pcm_s16le (native))\n",
      "Press [q] to stop, [?] for help\n",
      "Output #0, wav, to 'jfk_changed.wav':\n",
      "  Metadata:\n",
      "    ISFT            : Lavf60.3.100\n",
      "  Stream #0:0: Audio: pcm_s16le ([1][0][0][0] / 0x0001), 16000 Hz, mono, s16, 256 kb/s\n",
      "    Metadata:\n",
      "      encoder         : Lavc60.3.100 pcm_s16le\n",
      "size=     344kB time=00:00:10.88 bitrate= 258.9kbits/s speed=5.14e+03x    \n",
      "video:0kB audio:344kB subtitle:0kB other streams:0kB global headers:0kB muxing overhead: 0.022159%\n"
     ]
    }
   ],
   "source": [
    "file_to_transc = tfile.value[0].name\n",
    "trans_file = file_to_transc.split(\".\")[0]+\"_changed.wav\"\n",
    "transcript_file = file_to_transc.split(\".\")[0] + \"_transcript.txt\"\n",
    "\n",
    "print(\"Writing to disk\")\n",
    "with open(tfile.value[0].name, \"wb\") as fp:\n",
    "    fp.write(tfile.value[0].content)\n",
    "print(\"Done!\")\n",
    "\n",
    "#delete transcode if there already\n",
    "if os.path.exists(trans_file):\n",
    "    os.remove(trans_file)\n",
    "\n",
    "print(\"Transcoding to suitable\")\n",
    "{\n",
    "    ffmpeg\n",
    "    .input(file_to_transc)\n",
    "    .output(trans_file, ar='16k')\n",
    "    .run()\n",
    "}\n",
    "\n",
    "print(\"Done!\")"
   ]
  },
  {
   "cell_type": "markdown",
   "id": "ad509c1e-8855-47f3-8fc8-dc17333e0abb",
   "metadata": {},
   "source": [
    "## Finally run Whisper\n",
    "\n",
    "----"
   ]
  },
  {
   "cell_type": "code",
   "execution_count": 9,
   "id": "2930b791-0d30-4330-b172-d679054b2252",
   "metadata": {},
   "outputs": [
    {
     "name": "stderr",
     "output_type": "stream",
     "text": [
      "whisper_init_from_file_no_state: loading model from '/Users/tim/.ggml-models/ggml-tiny.bin'\n",
      "whisper_model_load: loading model\n",
      "whisper_model_load: n_vocab       = 51865\n",
      "whisper_model_load: n_audio_ctx   = 1500\n",
      "whisper_model_load: n_audio_state = 384\n",
      "whisper_model_load: n_audio_head  = 6\n",
      "whisper_model_load: n_audio_layer = 4\n",
      "whisper_model_load: n_text_ctx    = 448\n",
      "whisper_model_load: n_text_state  = 384\n",
      "whisper_model_load: n_text_head   = 6\n",
      "whisper_model_load: n_text_layer  = 4\n",
      "whisper_model_load: n_mels        = 80\n",
      "whisper_model_load: f16           = 1\n",
      "whisper_model_load: type          = 1\n",
      "whisper_model_load: mem required  =  129.00 MB (+    3.00 MB per decoder)\n",
      "whisper_model_load: adding 1608 extra tokens\n",
      "whisper_model_load: model ctx     =   73.58 MB\n",
      "whisper_model_load: model size    =   73.54 MB\n",
      "whisper_init_state: kv self size  =    2.62 MB\n",
      "whisper_init_state: kv cross size =    8.79 MB\n"
     ]
    },
    {
     "name": "stdout",
     "output_type": "stream",
     "text": [
      "Loading data..\n",
      "Transcribing..\n",
      "Extracting text...\n"
     ]
    },
    {
     "name": "stderr",
     "output_type": "stream",
     "text": [
      "whisper_full_with_state: progress =   5%\n",
      "whisper_full_with_state: progress =  10%\n",
      "whisper_full_with_state: progress =  15%\n",
      "whisper_full_with_state: progress =  20%\n",
      "whisper_full_with_state: progress =  25%\n",
      "whisper_full_with_state: progress =  30%\n",
      "whisper_full_with_state: progress =  35%\n",
      "whisper_full_with_state: progress =  40%\n",
      "whisper_full_with_state: progress =  45%\n",
      "whisper_full_with_state: progress =  50%\n",
      "whisper_full_with_state: progress =  55%\n",
      "whisper_full_with_state: progress =  60%\n",
      "whisper_full_with_state: progress =  65%\n",
      "whisper_full_with_state: progress =  70%\n",
      "whisper_full_with_state: progress =  75%\n",
      "whisper_full_with_state: progress =  80%\n",
      "whisper_full_with_state: progress =  85%\n",
      "whisper_full_with_state: progress =  90%\n",
      "whisper_full_with_state: progress =  95%\n",
      "whisper_full_with_state: progress = 100%\n"
     ]
    },
    {
     "data": {
      "text/markdown": [
       "### Transcribed Text"
      ],
      "text/plain": [
       "<IPython.core.display.Markdown object>"
      ]
     },
     "metadata": {},
     "output_type": "display_data"
    },
    {
     "data": {
      "text/markdown": [
       " And so my fellow Americans ask not what your country can do for you ask what you can do for your country."
      ],
      "text/plain": [
       "<IPython.core.display.Markdown object>"
      ]
     },
     "metadata": {},
     "output_type": "display_data"
    }
   ],
   "source": [
    "w = Whisper('tiny')\n",
    "result = w.transcribe(file_to_transc)\n",
    "text = w.extract_text(result)\n",
    "display(Markdown(\"### Transcribed Text\"))\n",
    "display(Markdown(\" \".join(text)))"
   ]
  },
  {
   "cell_type": "markdown",
   "id": "81ac0e76-290c-42cc-8959-c625861763be",
   "metadata": {},
   "source": [
    "## Download transcription\n",
    "\n",
    "----"
   ]
  },
  {
   "cell_type": "code",
   "execution_count": 11,
   "id": "55658493-554f-45db-b139-db886b4b5ec4",
   "metadata": {},
   "outputs": [
    {
     "data": {
      "text/markdown": [
       "[jfk_transcript.txt](jfk_transcript.txt)"
      ],
      "text/plain": [
       "<IPython.core.display.Markdown object>"
      ]
     },
     "metadata": {},
     "output_type": "display_data"
    }
   ],
   "source": [
    "from IPython.display import Markdown, display\n",
    "final_transcript = open(transcript_file,\"w\")\n",
    "final_transcript.writelines(\" \".join(text))\n",
    "display(\n",
    "    \n",
    "    Markdown(\"[\"+transcript_file+\"](\"+transcript_file+\")\")\n",
    "    )"
   ]
  }
 ],
 "metadata": {
  "kernelspec": {
   "display_name": "Python 3 (ipykernel)",
   "language": "python",
   "name": "python3"
  },
  "language_info": {
   "codemirror_mode": {
    "name": "ipython",
    "version": 3
   },
   "file_extension": ".py",
   "mimetype": "text/x-python",
   "name": "python",
   "nbconvert_exporter": "python",
   "pygments_lexer": "ipython3",
   "version": "3.11.5"
  }
 },
 "nbformat": 4,
 "nbformat_minor": 5
}
