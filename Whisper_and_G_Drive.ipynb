{
  "nbformat": 4,
  "nbformat_minor": 0,
  "metadata": {
    "colab": {
      "provenance": [],
      "authorship_tag": "ABX9TyMAP24OCKgWqEiuT7tG/ox2"
    },
    "kernelspec": {
      "name": "python3",
      "display_name": "Python 3"
    },
    "language_info": {
      "name": "python"
    }
  },
  "cells": [
    {
      "cell_type": "markdown",
      "source": [
        "\n",
        "## To Begin\n",
        "\n",
        "Click this link:\n",
        "\n",
        "[https://colab.research.google.com/github/elibtronic/whisper_research/blob/master/Whisper_and_G_Drive.ipynb](https://colab.research.google.com/github/elibtronic/whisper_research/blob/master/Whisper_and_G_Drive.ipynb)\n",
        "\n",
        "to copy this notebook into the Google Colab Environment\n",
        "\n"
      ],
      "metadata": {
        "id": "RFPx-HjfW9wd"
      }
    },
    {
      "cell_type": "markdown",
      "source": [
        "# Whisper G Drive Connector\n",
        "\n",
        "This notebook will help you to run the Whisper transciption suite on a collection of files in your Google Drive. In the cell below put in your path to the folder that holds your audio.\n",
        "\n",
        "Then hit the run button for the cell.\n",
        "\n",
        "\n",
        "The cell will then import the python libraries we are going to use and to mount your Google Drive. This might take a few minutes to run\n",
        "\n",
        "**NB You will be presented with a pop-up that will ask for your authorization to connect to your drive!**\n"
      ],
      "metadata": {
        "id": "l9P8Hz7pEbNs"
      }
    },
    {
      "cell_type": "code",
      "source": [
        "# @title Whisper G Drive Connector\n",
        "\n",
        "audio_directory = \"Whisper_Files\" # @param {type:\"string\"}\n",
        "# Connect GDrive & select folder\n",
        "\n",
        "\n",
        "apath = \"/content/gdrive/MyDrive/\"+audio_directory+\"/\"\n",
        "\n",
        "#DEBUG: Can delete the files and reset by uncommenting the following\n",
        "#Reset files\n",
        "#!rm $apath/*_changed.wav\n",
        "#!rm $apath/*.txt\n",
        "#!ls $apath\n",
        "\n",
        "\n",
        "#install pieces if needed\n",
        "try:\n",
        "    import ffmpeg\n",
        "except:\n",
        "    !pip install ffmpeg-python\n",
        "    import ffmpeg\n",
        "try:\n",
        "    from whispercpp import Whisper\n",
        "except:\n",
        "    !pip install git+https://github.com/stlukey/whispercpp.py\n",
        "    from whispercpp import Whisper\n",
        "\n",
        "\n",
        "import sys\n",
        "import os\n",
        "import glob\n",
        "from google.colab import drive\n",
        "drive.mount('/content/gdrive',force_remount=True)\n",
        "\n",
        "try:\n",
        "  print(\"\\nFound the following files\")\n",
        "  for file in os.listdir(apath):\n",
        "    print(file)\n",
        "except:\n",
        "  print(\"Could not find audio directory\")\n",
        "\n"
      ],
      "metadata": {
        "colab": {
          "base_uri": "https://localhost:8080/"
        },
        "id": "0Tn5orMXTdxX",
        "outputId": "3d03b444-83cc-4da1-f064-92dbc853423a"
      },
      "execution_count": 2,
      "outputs": [
        {
          "output_type": "stream",
          "name": "stdout",
          "text": [
            "Collecting ffmpeg-python\n",
            "  Downloading ffmpeg_python-0.2.0-py3-none-any.whl (25 kB)\n",
            "Requirement already satisfied: future in /usr/local/lib/python3.10/dist-packages (from ffmpeg-python) (0.18.3)\n",
            "Installing collected packages: ffmpeg-python\n",
            "Successfully installed ffmpeg-python-0.2.0\n",
            "Collecting git+https://github.com/stlukey/whispercpp.py\n",
            "  Cloning https://github.com/stlukey/whispercpp.py to /tmp/pip-req-build-ilh72sjj\n",
            "  Running command git clone --filter=blob:none --quiet https://github.com/stlukey/whispercpp.py /tmp/pip-req-build-ilh72sjj\n",
            "  Resolved https://github.com/stlukey/whispercpp.py to commit 7af678159c29edb3bc2a51a72665073d58f2352f\n",
            "  Running command git submodule update --init --recursive -q\n",
            "  Installing build dependencies ... \u001b[?25l\u001b[?25hdone\n",
            "  Getting requirements to build wheel ... \u001b[?25l\u001b[?25hdone\n",
            "  Preparing metadata (pyproject.toml) ... \u001b[?25l\u001b[?25hdone\n",
            "Requirement already satisfied: numpy in /usr/local/lib/python3.10/dist-packages (from whispercpp==1.0) (1.23.5)\n",
            "Requirement already satisfied: ffmpeg-python in /usr/local/lib/python3.10/dist-packages (from whispercpp==1.0) (0.2.0)\n",
            "Requirement already satisfied: requests in /usr/local/lib/python3.10/dist-packages (from whispercpp==1.0) (2.31.0)\n",
            "Requirement already satisfied: future in /usr/local/lib/python3.10/dist-packages (from ffmpeg-python->whispercpp==1.0) (0.18.3)\n",
            "Requirement already satisfied: charset-normalizer<4,>=2 in /usr/local/lib/python3.10/dist-packages (from requests->whispercpp==1.0) (3.3.2)\n",
            "Requirement already satisfied: idna<4,>=2.5 in /usr/local/lib/python3.10/dist-packages (from requests->whispercpp==1.0) (3.6)\n",
            "Requirement already satisfied: urllib3<3,>=1.21.1 in /usr/local/lib/python3.10/dist-packages (from requests->whispercpp==1.0) (2.0.7)\n",
            "Requirement already satisfied: certifi>=2017.4.17 in /usr/local/lib/python3.10/dist-packages (from requests->whispercpp==1.0) (2023.11.17)\n",
            "Building wheels for collected packages: whispercpp\n",
            "  Building wheel for whispercpp (pyproject.toml) ... \u001b[?25l\u001b[?25hdone\n",
            "  Created wheel for whispercpp: filename=whispercpp-1.0-cp310-cp310-linux_x86_64.whl size=2296564 sha256=cf630279071728526360592a332471138cfd3529e141c953f151ef6154e73714\n",
            "  Stored in directory: /tmp/pip-ephem-wheel-cache-4dnyd10g/wheels/66/a1/a8/e5b342b3d6d1b65b787546ee9d5a1d948c8ab3db3c879d7df1\n",
            "Successfully built whispercpp\n",
            "Installing collected packages: whispercpp\n",
            "Successfully installed whispercpp-1.0\n",
            "Saving models to: /root/.ggml-models\n",
            "Mounted at /content/gdrive\n",
            "Found the following files\n",
            "jfk.wav\n"
          ]
        }
      ]
    },
    {
      "cell_type": "markdown",
      "source": [
        "## Prep by Transcoding\n",
        "\n",
        "The following cell witll transcode all of your audio files into the bitrate required by whisper for transciption to work. (16000)\n",
        "\n",
        "*Note:* This is done with a System call as bare metal `ffmpeg` is faster/better than the Python wrapper."
      ],
      "metadata": {
        "id": "hI546-UJUbJf"
      }
    },
    {
      "cell_type": "code",
      "source": [
        "#Transcode all files in the directory\n",
        "\n",
        "for file in os.listdir(apath):\n",
        "    fpath = apath + file\n",
        "    trans_file = apath + file.split(\".\")[0]+\"_changed.wav\"\n",
        "    print(trans_file)\n",
        "    !ffmpeg -hide_banner -i $fpath  -ar 16k $trans_file\n"
      ],
      "metadata": {
        "colab": {
          "base_uri": "https://localhost:8080/"
        },
        "id": "DKGB0xMCE0n0",
        "outputId": "2476270d-bc5b-4e29-9c39-fd8ddbedfa95"
      },
      "execution_count": 3,
      "outputs": [
        {
          "output_type": "stream",
          "name": "stdout",
          "text": [
            "/content/gdrive/MyDrive/Whisper_Files/jfk_changed.wav\n",
            "\u001b[0;33mGuessed Channel Layout for Input Stream #0.0 : mono\n",
            "\u001b[0mInput #0, wav, from '/content/gdrive/MyDrive/Whisper_Files/jfk.wav':\n",
            "  Metadata:\n",
            "    encoder         : Lavf59.27.100\n",
            "  Duration: 00:00:11.00, bitrate: 256 kb/s\n",
            "  Stream #0:0: Audio: pcm_s16le ([1][0][0][0] / 0x0001), 16000 Hz, mono, s16, 256 kb/s\n",
            "Stream mapping:\n",
            "  Stream #0:0 -> #0:0 (pcm_s16le (native) -> pcm_s16le (native))\n",
            "Press [q] to stop, [?] for help\n",
            "Output #0, wav, to '/content/gdrive/MyDrive/Whisper_Files/jfk_changed.wav':\n",
            "  Metadata:\n",
            "    ISFT            : Lavf58.76.100\n",
            "  Stream #0:0: Audio: pcm_s16le ([1][0][0][0] / 0x0001), 16000 Hz, mono, s16, 256 kb/s\n",
            "    Metadata:\n",
            "      encoder         : Lavc58.134.100 pcm_s16le\n",
            "size=     344kB time=00:00:10.88 bitrate= 258.9kbits/s speed= 399x    \n",
            "video:0kB audio:344kB subtitle:0kB other streams:0kB global headers:0kB muxing overhead: 0.022159%\n"
          ]
        }
      ]
    },
    {
      "cell_type": "markdown",
      "source": [
        "\n",
        "## Transcribe with Whisper\n",
        "\n",
        "The next cell will run all of your transcoded files through Whisper and create text files with the transcipts.\n",
        "\n",
        "**NB: This might take awhile depending on how many files you are working with!**\n",
        "\n",
        "(Who knows, I might make this system calls as well)"
      ],
      "metadata": {
        "id": "RQ-Vh1viU1_S"
      }
    },
    {
      "cell_type": "code",
      "source": [
        "#Run Whisper on the transcribed files\n",
        "transcribed_files = glob.glob(apath+\"*_changed.wav\")\n",
        "for file in transcribed_files:\n",
        "  w = Whisper('tiny')\n",
        "  transcript_file = file+\"_transcription.txt\"\n",
        "  result = w.transcribe(file)\n",
        "  text = w.extract_text(result)\n",
        "  final_transcipt = open(transcript_file,\"w\")\n",
        "  final_transcipt.writelines(\" \".join(text))\n",
        "  final_transcipt.close()"
      ],
      "metadata": {
        "colab": {
          "base_uri": "https://localhost:8080/"
        },
        "id": "m0CA4uZZM_ZK",
        "outputId": "b99c8481-cdc8-4c2e-cf74-9992574a27ab"
      },
      "execution_count": 4,
      "outputs": [
        {
          "output_type": "stream",
          "name": "stdout",
          "text": [
            "Downloading ggml-tiny.bin...\n",
            "Loading data..\n",
            "Transcribing..\n",
            "Extracting text...\n"
          ]
        }
      ]
    },
    {
      "cell_type": "markdown",
      "source": [
        "## Done!\n",
        "\n",
        "In your directory of files you should see a series of text files with the transcipts. This might take a bit to sync back to your Google Drive interface. You can run the cell below to see a list of all of the files that are now in your directory."
      ],
      "metadata": {
        "id": "uq-VnkK8VV3P"
      }
    },
    {
      "cell_type": "code",
      "source": [
        "!ls -lh $apath"
      ],
      "metadata": {
        "colab": {
          "base_uri": "https://localhost:8080/"
        },
        "id": "XRbgHAhJPZw1",
        "outputId": "07b158d0-e07b-40b9-ca1b-829e67d3f1be"
      },
      "execution_count": 5,
      "outputs": [
        {
          "output_type": "stream",
          "name": "stdout",
          "text": [
            "total 689K\n",
            "-rw------- 1 root root 344K Jan 11 21:15 jfk_changed.wav\n",
            "-rw------- 1 root root  106 Jan 11 21:16 jfk_changed.wav_transcription.txt\n",
            "-rw------- 1 root root 344K Dec 21 17:51 jfk.wav\n"
          ]
        }
      ]
    }
  ]
}