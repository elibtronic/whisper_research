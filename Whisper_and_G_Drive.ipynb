{
  "nbformat": 4,
  "nbformat_minor": 0,
  "metadata": {
    "colab": {
      "provenance": [],
      "authorship_tag": "ABX9TyPnxHFQKAhahc1bbay0asGf",
      "include_colab_link": true
    },
    "kernelspec": {
      "name": "python3",
      "display_name": "Python 3"
    },
    "language_info": {
      "name": "python"
    }
  },
  "cells": [
    {
      "cell_type": "markdown",
      "metadata": {
        "id": "view-in-github",
        "colab_type": "text"
      },
      "source": [
        "<a href=\"https://colab.research.google.com/github/elibtronic/whisper_research/blob/main/Whisper_and_G_Drive.ipynb\" target=\"_parent\"><img src=\"https://colab.research.google.com/assets/colab-badge.svg\" alt=\"Open In Colab\"/></a>"
      ]
    },
    {
      "cell_type": "markdown",
      "source": [
        "# Whisper G Drive Connector\n",
        "\n",
        "This notebook will help you to run the Whisper transciption suite on a collection of files in your Google Drive. In the cell below put in your path to the folder that holds your audio.\n",
        "\n",
        "Then hit the run button for the cell"
      ],
      "metadata": {
        "id": "l9P8Hz7pEbNs"
      }
    },
    {
      "cell_type": "code",
      "source": [
        "# @title Whisper G Drive Connector\n",
        "\n",
        "audio_directory = \"Whisper_Files\" # @param {type:\"string\"}\n",
        "# Connect GDrive & select folder\n",
        "\n",
        "\n",
        "apath = \"/content/gdrive/MyDrive/\"+audio_directory+\"/\"\n",
        "\n",
        "try:\n",
        "  print(\"Found the following files\")\n",
        "  for file in os.listdir(apath):\n",
        "    print(file)\n",
        "except:\n",
        "  print(\"Could not find audio directory\")\n",
        "\n"
      ],
      "metadata": {
        "colab": {
          "base_uri": "https://localhost:8080/"
        },
        "id": "0Tn5orMXTdxX",
        "outputId": "ac9c8937-84e2-4e86-c282-da7d3315a3cf"
      },
      "execution_count": 68,
      "outputs": [
        {
          "output_type": "stream",
          "name": "stdout",
          "text": [
            "Found the following files\n",
            "jfk.wav\n",
            "jfk_changed.wav\n",
            "jfk_changed.wav_transcription.txt\n"
          ]
        }
      ]
    },
    {
      "cell_type": "markdown",
      "source": [
        "## Libraries & G Drive Connection\n",
        "\n",
        "Run the following cell to import the python libraries we are going to use and to mount your Google Drive. You will be presented with a pop-up that will ask for your authorization to connect to your drive."
      ],
      "metadata": {
        "id": "ulW0Ns1TUJZP"
      }
    },
    {
      "cell_type": "code",
      "source": [
        "\n",
        "#install pieces if needed\n",
        "try:\n",
        "    import ffmpeg\n",
        "except:\n",
        "    !pip install ffmpeg-python\n",
        "    import ffmpeg\n",
        "try:\n",
        "    from whispercpp import Whisper\n",
        "except:\n",
        "    !pip install git+https://github.com/stlukey/whispercpp.py\n",
        "    from whispercpp import Whisper\n",
        "\n",
        "\n",
        "import sys\n",
        "import os\n",
        "import glob\n",
        "from google.colab import drive\n",
        "drive.mount('/content/gdrive',force_remount=True)"
      ],
      "metadata": {
        "id": "JAZ3Q5wxEaZ6"
      },
      "execution_count": null,
      "outputs": []
    },
    {
      "cell_type": "markdown",
      "source": [
        "## Prep by Transcoding\n",
        "\n",
        "The following cell witll transcode all of your audio files into the bitrate required by whisper for transciption to work. (16000)\n",
        "\n",
        "*Note:* This is done with a System call as bare metal `ffmpeg` is faster/better than the Python wrapper."
      ],
      "metadata": {
        "id": "hI546-UJUbJf"
      }
    },
    {
      "cell_type": "code",
      "source": [
        "#Reset files\n",
        "#!rm $apath/*_changed.wav\n",
        "#!rm $apath/*.txt\n",
        "#!ls $apath\n",
        "\n",
        "\n",
        "#Transcode all files in the directory\n",
        "\n",
        "for file in os.listdir(apath):\n",
        "    fpath = apath + file\n",
        "    trans_file = apath + file.split(\".\")[0]+\"_changed.wav\"\n",
        "    print(trans_file)\n",
        "    !ffmpeg -hide_banner -i $fpath  -ar 16k $trans_file\n"
      ],
      "metadata": {
        "colab": {
          "base_uri": "https://localhost:8080/"
        },
        "id": "DKGB0xMCE0n0",
        "outputId": "11cb3ee6-2a07-4598-b74d-441718ace600"
      },
      "execution_count": 65,
      "outputs": [
        {
          "output_type": "stream",
          "name": "stdout",
          "text": [
            "/content/gdrive/MyDrive/Whisper_Files/jfk_changed.wav\n",
            "\u001b[0;33mGuessed Channel Layout for Input Stream #0.0 : mono\n",
            "\u001b[0mInput #0, wav, from '/content/gdrive/MyDrive/Whisper_Files/jfk.wav':\n",
            "  Metadata:\n",
            "    encoder         : Lavf59.27.100\n",
            "  Duration: 00:00:11.00, bitrate: 256 kb/s\n",
            "  Stream #0:0: Audio: pcm_s16le ([1][0][0][0] / 0x0001), 16000 Hz, mono, s16, 256 kb/s\n",
            "Stream mapping:\n",
            "  Stream #0:0 -> #0:0 (pcm_s16le (native) -> pcm_s16le (native))\n",
            "Press [q] to stop, [?] for help\n",
            "Output #0, wav, to '/content/gdrive/MyDrive/Whisper_Files/jfk_changed.wav':\n",
            "  Metadata:\n",
            "    ISFT            : Lavf58.76.100\n",
            "  Stream #0:0: Audio: pcm_s16le ([1][0][0][0] / 0x0001), 16000 Hz, mono, s16, 256 kb/s\n",
            "    Metadata:\n",
            "      encoder         : Lavc58.134.100 pcm_s16le\n",
            "size=       4kB time=00:00:00.00 bitrate=N/A speed=N/A    \rsize=     344kB time=00:00:10.88 bitrate= 258.9kbits/s speed=3.18e+03x    \n",
            "video:0kB audio:344kB subtitle:0kB other streams:0kB global headers:0kB muxing overhead: 0.022159%\n"
          ]
        }
      ]
    },
    {
      "cell_type": "markdown",
      "source": [
        "\n",
        "## Transcribe with Whisper\n",
        "\n",
        "The next cell will run all of your transcoded files through Whisper and create text files with the transcipts.\n",
        "\n",
        "**NB: This might take awhile depending on how many files you are working with!**\n",
        "\n",
        "(Who knows, I might make this system calls as well)"
      ],
      "metadata": {
        "id": "RQ-Vh1viU1_S"
      }
    },
    {
      "cell_type": "code",
      "source": [
        "#Run Whisper on the transcribed files\n",
        "transcribed_files = glob.glob(apath+\"*_changed.wav\")\n",
        "for file in transcribed_files:\n",
        "  w = Whisper('tiny')\n",
        "  transcript_file = file+\"_transcription.txt\"\n",
        "  result = w.transcribe(file)\n",
        "  text = w.extract_text(result)\n",
        "  final_transcipt = open(transcript_file,\"w\")\n",
        "  final_transcipt.writelines(\" \".join(text))\n",
        "  final_transcipt.close()"
      ],
      "metadata": {
        "colab": {
          "base_uri": "https://localhost:8080/"
        },
        "id": "m0CA4uZZM_ZK",
        "outputId": "20affa6e-c94c-4c5e-97e0-7cf2b680d003"
      },
      "execution_count": 66,
      "outputs": [
        {
          "output_type": "stream",
          "name": "stdout",
          "text": [
            "Loading data..\n",
            "Transcribing..\n",
            "Extracting text...\n"
          ]
        }
      ]
    },
    {
      "cell_type": "markdown",
      "source": [
        "## Done!\n",
        "\n",
        "In your directory of files you should see a series of text files with the transcipts. This might take a bit to sync back to your Google Drive interface. You can run the cell below to see a list of all of the files that are now in your directory."
      ],
      "metadata": {
        "id": "uq-VnkK8VV3P"
      }
    },
    {
      "cell_type": "code",
      "source": [
        "!ls -lh $apath"
      ],
      "metadata": {
        "colab": {
          "base_uri": "https://localhost:8080/"
        },
        "id": "XRbgHAhJPZw1",
        "outputId": "ee895ab7-852a-4f24-93ed-de30125ac2d7"
      },
      "execution_count": 70,
      "outputs": [
        {
          "output_type": "stream",
          "name": "stdout",
          "text": [
            "total 689K\n",
            "-rw------- 1 root root 344K Jan 11 20:39 jfk_changed.wav\n",
            "-rw------- 1 root root  106 Jan 11 20:40 jfk_changed.wav_transcription.txt\n",
            "-rw------- 1 root root 344K Dec 21 17:51 jfk.wav\n"
          ]
        }
      ]
    }
  ]
}